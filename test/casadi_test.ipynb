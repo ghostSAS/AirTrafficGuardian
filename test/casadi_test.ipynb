{
 "cells": [
  {
   "cell_type": "code",
   "execution_count": 5,
   "metadata": {},
   "outputs": [],
   "source": [
    "import sys\n",
    "sys.path.append('..')\n",
    "\n",
    "import casadi as ca\n",
    "import utils.toolbox_bezier as bzr\n",
    "from utils.pkg_func import *\n",
    "\n"
   ]
  },
  {
   "cell_type": "code",
   "execution_count": 28,
   "metadata": {},
   "outputs": [
    {
     "name": "stdout",
     "output_type": "stream",
     "text": [
      "nan(15x15)\n"
     ]
    },
    {
     "ename": "AttributeError",
     "evalue": "module 'casadi' has no attribute 'isnan'",
     "output_type": "error",
     "traceback": [
      "\u001b[0;31m---------------------------------------------------------------------------\u001b[0m",
      "\u001b[0;31mAttributeError\u001b[0m                            Traceback (most recent call last)",
      "\u001b[0;32m<ipython-input-28-7c56b96e8522>\u001b[0m in \u001b[0;36m<module>\u001b[0;34m\u001b[0m\n\u001b[1;32m      5\u001b[0m \u001b[0mAp\u001b[0m \u001b[0;34m=\u001b[0m \u001b[0mca\u001b[0m\u001b[0;34m.\u001b[0m\u001b[0mMX\u001b[0m\u001b[0;34m.\u001b[0m\u001b[0mzeros\u001b[0m\u001b[0;34m(\u001b[0m\u001b[0md\u001b[0m\u001b[0;34m*\u001b[0m\u001b[0;34m(\u001b[0m\u001b[0mn\u001b[0m\u001b[0;34m+\u001b[0m\u001b[0;36m1\u001b[0m\u001b[0;34m)\u001b[0m\u001b[0;34m,\u001b[0m \u001b[0md\u001b[0m\u001b[0;34m*\u001b[0m\u001b[0;34m(\u001b[0m\u001b[0mn\u001b[0m\u001b[0;34m+\u001b[0m\u001b[0;36m1\u001b[0m\u001b[0;34m)\u001b[0m\u001b[0;34m)\u001b[0m\u001b[0;34m*\u001b[0m\u001b[0mnp\u001b[0m\u001b[0;34m.\u001b[0m\u001b[0mnan\u001b[0m\u001b[0;34m\u001b[0m\u001b[0;34m\u001b[0m\u001b[0m\n\u001b[1;32m      6\u001b[0m \u001b[0mprint\u001b[0m\u001b[0;34m(\u001b[0m\u001b[0mAp\u001b[0m\u001b[0;34m)\u001b[0m\u001b[0;34m\u001b[0m\u001b[0;34m\u001b[0m\u001b[0m\n\u001b[0;32m----> 7\u001b[0;31m \u001b[0mprint\u001b[0m\u001b[0;34m(\u001b[0m\u001b[0mAp\u001b[0m\u001b[0;34m[\u001b[0m\u001b[0;34m~\u001b[0m\u001b[0mca\u001b[0m\u001b[0;34m.\u001b[0m\u001b[0misnan\u001b[0m\u001b[0;34m(\u001b[0m\u001b[0mAp\u001b[0m\u001b[0;34m)\u001b[0m\u001b[0;34m]\u001b[0m\u001b[0;34m)\u001b[0m\u001b[0;34m\u001b[0m\u001b[0;34m\u001b[0m\u001b[0m\n\u001b[0m\u001b[1;32m      8\u001b[0m \u001b[0mAm\u001b[0m \u001b[0;34m=\u001b[0m \u001b[0mca\u001b[0m\u001b[0;34m.\u001b[0m\u001b[0mMX\u001b[0m\u001b[0;34m(\u001b[0m\u001b[0md\u001b[0m\u001b[0;34m*\u001b[0m\u001b[0;34m(\u001b[0m\u001b[0mn\u001b[0m\u001b[0;34m+\u001b[0m\u001b[0;36m1\u001b[0m\u001b[0;34m)\u001b[0m\u001b[0;34m,\u001b[0m \u001b[0md\u001b[0m\u001b[0;34m*\u001b[0m\u001b[0;34m(\u001b[0m\u001b[0mn\u001b[0m\u001b[0;34m+\u001b[0m\u001b[0;36m1\u001b[0m\u001b[0;34m)\u001b[0m\u001b[0;34m)\u001b[0m\u001b[0;34m\u001b[0m\u001b[0;34m\u001b[0m\u001b[0m\n\u001b[1;32m      9\u001b[0m \u001b[0;32mfor\u001b[0m \u001b[0mk\u001b[0m \u001b[0;32min\u001b[0m \u001b[0mrange\u001b[0m\u001b[0;34m(\u001b[0m\u001b[0mconti_order\u001b[0m\u001b[0;34m+\u001b[0m\u001b[0;36m1\u001b[0m\u001b[0;34m)\u001b[0m\u001b[0;34m:\u001b[0m\u001b[0;34m\u001b[0m\u001b[0;34m\u001b[0m\u001b[0m\n",
      "\u001b[0;31mAttributeError\u001b[0m: module 'casadi' has no attribute 'isnan'"
     ]
    }
   ],
   "source": [
    "\n",
    "d, n, m = 3, 4, 2\n",
    "conti_order = 2\n",
    "T = 2\n",
    "\n",
    "Ap = ca.MX.zeros(d*(n+1), d*(n+1))*np.nan\n",
    "print(Ap)\n",
    "print(Ap[~ca.isnan(Ap)])\n",
    "Am = ca.MX(d*(n+1), d*(n+1))\n",
    "for k in range(conti_order+1):\n",
    "    Mk = bzr.get_M(n,k,d,T)\n",
    "    Nm = np.c_[np.zeros((d, Mk.shape[0]-d)), np.eye(d)]\n",
    "    Np = np.c_[np.eye(d), np.zeros((d, Mk.shape[0]-d))]\n",
    "    # if not k:\n",
    "    #     Ap = Np@Mk.copy()\n",
    "    #     Am = Nm@Mk.copy()\n",
    "    # else:\n",
    "    #     Ap = np.r_[Ap, Np@Mk]\n",
    "    #     Am = np.r_[Am, Nm@Mk]\n",
    "\n",
    "    # Ap[np.arange(k*self.d,(k+1)*self.d),:] = Np@Mk\n",
    "    # Am[np.arange(k*self.d,(k+1)*self.d),:] = Nm@Mk            \n",
    "    Ap[k*d:(k+1)*d,:] = Np@Mk\n",
    "    Am[k*d:(k+1)*d,:] = Nm@Mk   \n",
    "\n",
    "\n",
    "Ap.shape\n",
    "\n",
    "opti = ca.Opti()\n",
    "X = opti.variable(d*(n+1))\n",
    "opti.minimize(X.T@Ap@X)\n",
    "opti.subject_to(X >= np.zeros((d*(n+1),1)))\n",
    "\n",
    "opts = {\"ipopt.print_level\":0, \"print_time\": False, 'ipopt.max_iter':100}\n",
    "opts = {}\n",
    "opti.solver(\"ipopt\", opts)\n",
    "sol = opti.solve()\n",
    "\n",
    "sol.value(X)"
   ]
  },
  {
   "cell_type": "code",
   "execution_count": 66,
   "metadata": {},
   "outputs": [
    {
     "name": "stdout",
     "output_type": "stream",
     "text": [
      "(array([0, 2, 3]),)\n",
      "1\n",
      "0\n",
      "1\n",
      "1\n",
      "0\n",
      "0\n"
     ]
    }
   ],
   "source": [
    "a = ca.SX(np.arange(6))\n",
    "print(np.nonzero([True, False, True, True, False, False]))\n",
    "b= a[True, False, True, True, False, False]\n",
    "\n",
    "for i in range(b.numel()):\n",
    "    print(b[i])\n"
   ]
  },
  {
   "cell_type": "code",
   "execution_count": 53,
   "metadata": {},
   "outputs": [
    {
     "name": "stdout",
     "output_type": "stream",
     "text": [
      "[ 0  7 14 21 28 35]\n"
     ]
    }
   ],
   "source": [
    "a = np.arange(36).reshape((6, -1))\n",
    "b = a[I[0]:I[-1]+1, I[0]:I[-1]+1]\n",
    "\n",
    "print(np.diag(a))"
   ]
  }
 ],
 "metadata": {
  "kernelspec": {
   "display_name": "base",
   "language": "python",
   "name": "python3"
  },
  "language_info": {
   "codemirror_mode": {
    "name": "ipython",
    "version": 3
   },
   "file_extension": ".py",
   "mimetype": "text/x-python",
   "name": "python",
   "nbconvert_exporter": "python",
   "pygments_lexer": "ipython3",
   "version": "3.8.8"
  }
 },
 "nbformat": 4,
 "nbformat_minor": 2
}
